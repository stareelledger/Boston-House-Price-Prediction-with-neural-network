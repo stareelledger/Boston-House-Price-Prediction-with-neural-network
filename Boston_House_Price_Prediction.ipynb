{
  "nbformat": 4,
  "nbformat_minor": 0,
  "metadata": {
    "accelerator": "GPU",
    "colab": {
      "name": "Boston House Price Prediction.ipynb",
      "provenance": []
    },
    "kernelspec": {
      "display_name": "Python 3",
      "language": "python",
      "name": "python3"
    },
    "language_info": {
      "codemirror_mode": {
        "name": "ipython",
        "version": 3
      },
      "file_extension": ".py",
      "mimetype": "text/x-python",
      "name": "python",
      "nbconvert_exporter": "python",
      "pygments_lexer": "ipython3",
      "version": "3.7.6"
    }
  },
  "cells": [
    {
      "cell_type": "markdown",
      "metadata": {
        "id": "XFs8wPXTqbiP"
      },
      "source": [
        "# Importing important libraries"
      ]
    },
    {
      "cell_type": "code",
      "metadata": {
        "id": "MG9nh6_foxW1"
      },
      "source": [
        "import numpy as np\n",
        "import matplotlib.pyplot as plt\n",
        "import tensorflow as tf\n",
        "from tensorflow import keras\n",
        "from sklearn import datasets"
      ],
      "execution_count": 1,
      "outputs": []
    },
    {
      "cell_type": "markdown",
      "metadata": {
        "id": "58VWYxsCqqJQ"
      },
      "source": [
        "# Loading Dataset of Boston house pricing"
      ]
    },
    {
      "cell_type": "code",
      "metadata": {
        "id": "yH5NnB96oxW4"
      },
      "source": [
        "boston = datasets.load_boston()"
      ],
      "execution_count": 2,
      "outputs": []
    },
    {
      "cell_type": "code",
      "metadata": {
        "id": "L7JL7tqIoxW5"
      },
      "source": [
        "X=boston['data']\n",
        "Y=boston['target']"
      ],
      "execution_count": 3,
      "outputs": []
    },
    {
      "cell_type": "code",
      "metadata": {
        "colab": {
          "base_uri": "https://localhost:8080/"
        },
        "id": "M6B9wioboxW5",
        "outputId": "084f2b85-b550-43b8-eae1-e3b122f9899a"
      },
      "source": [
        "X.shape #shape of the input data"
      ],
      "execution_count": 4,
      "outputs": [
        {
          "output_type": "execute_result",
          "data": {
            "text/plain": [
              "(506, 13)"
            ]
          },
          "metadata": {
            "tags": []
          },
          "execution_count": 4
        }
      ]
    },
    {
      "cell_type": "code",
      "metadata": {
        "colab": {
          "base_uri": "https://localhost:8080/"
        },
        "id": "4w5klzDsoxW6",
        "outputId": "28982b98-1f7c-4611-952a-b8c7c939fa6b"
      },
      "source": [
        "Y.shape #shape of the output data"
      ],
      "execution_count": 5,
      "outputs": [
        {
          "output_type": "execute_result",
          "data": {
            "text/plain": [
              "(506,)"
            ]
          },
          "metadata": {
            "tags": []
          },
          "execution_count": 5
        }
      ]
    },
    {
      "cell_type": "markdown",
      "metadata": {
        "id": "MkaM27qCq8lX"
      },
      "source": [
        "# Spliting the data set in test and train"
      ]
    },
    {
      "cell_type": "code",
      "metadata": {
        "id": "clrSC2XvoxW7"
      },
      "source": [
        "from sklearn.model_selection import train_test_split"
      ],
      "execution_count": 6,
      "outputs": []
    },
    {
      "cell_type": "code",
      "metadata": {
        "id": "5QpQi5EOoxW7"
      },
      "source": [
        "x_train, x_test, y_train, y_test = train_test_split(X,Y)"
      ],
      "execution_count": 7,
      "outputs": []
    },
    {
      "cell_type": "markdown",
      "metadata": {
        "id": "TdWp9nRPrJcX"
      },
      "source": [
        "# Normalizing the input data of test and train set"
      ]
    },
    {
      "cell_type": "code",
      "metadata": {
        "id": "dQ3Q7LSloxW8"
      },
      "source": [
        "from sklearn import preprocessing\n",
        "xtrain=preprocessing.normalize(x_train)\n",
        "xtest=preprocessing.normalize(x_test)\n"
      ],
      "execution_count": 8,
      "outputs": []
    },
    {
      "cell_type": "code",
      "metadata": {
        "colab": {
          "base_uri": "https://localhost:8080/"
        },
        "id": "9sDQ0xjtttFn",
        "outputId": "2aee7959-aa97-44cb-c36f-57fb01065af0"
      },
      "source": [
        "print (xtrain.shape)\n",
        "print (xtest.shape)"
      ],
      "execution_count": 9,
      "outputs": [
        {
          "output_type": "stream",
          "text": [
            "(379, 13)\n",
            "(127, 13)\n"
          ],
          "name": "stdout"
        }
      ]
    },
    {
      "cell_type": "markdown",
      "metadata": {
        "id": "GGUwPknZrVW8"
      },
      "source": [
        "# Modelling the layer:\n",
        "##### each layer is defined with:\n",
        "##### 1)Layer 1 with 319*26 neurons and activation is ReLU\n",
        "##### 1)Layer 2 with 319*39 neurons and activation is ReLU\n",
        "##### 1)Layer 3 with 319*26 neurons and activation is ReLU\n",
        "##### 1)Layer 4 with 1 neurons and activation is the default one i.e. Linear activation"
      ]
    },
    {
      "cell_type": "code",
      "metadata": {
        "id": "sItkgqfPoxW8"
      },
      "source": [
        "\n",
        "\n",
        "model=keras.Sequential([\n",
        "\n",
        "    keras.layers.Dense(319*26,activation='relu'),\n",
        "    keras.layers.Dense(319*39,activation='relu'),\n",
        "    keras.layers.Dense(319*26,activation='relu'),\n",
        "    keras.layers.Dense(1)\n",
        "])\n",
        "\n"
      ],
      "execution_count": 10,
      "outputs": []
    },
    {
      "cell_type": "markdown",
      "metadata": {
        "id": "7VU6ticns3Z5"
      },
      "source": [
        "# Compiling the model with:\n",
        "##### Adam optimizer with learning rate changed to 0.01 from 0.001\n",
        "##### and using mean absolute error for acquiring the loss"
      ]
    },
    {
      "cell_type": "code",
      "metadata": {
        "id": "gsfrQdF5oxW9"
      },
      "source": [
        "adam = keras.optimizers.Adam(learning_rate=0.01)\n",
        "model.compile(optimizer=adam,loss='mean_absolute_error')"
      ],
      "execution_count": 12,
      "outputs": []
    },
    {
      "cell_type": "markdown",
      "metadata": {
        "id": "CbuSQjNi5eB6"
      },
      "source": [
        "# Fitting the model"
      ]
    },
    {
      "cell_type": "code",
      "metadata": {
        "colab": {
          "base_uri": "https://localhost:8080/"
        },
        "id": "SLWbygaXoxW9",
        "outputId": "bafca211-f62c-4afb-9779-d1241134cdc4"
      },
      "source": [
        "model.fit(xtrain,y_train,epochs=100)"
      ],
      "execution_count": 13,
      "outputs": [
        {
          "output_type": "stream",
          "text": [
            "Epoch 1/100\n",
            "12/12 [==============================] - 4s 50ms/step - loss: 139.3609\n",
            "Epoch 2/100\n",
            "12/12 [==============================] - 1s 50ms/step - loss: 8.8260\n",
            "Epoch 3/100\n",
            "12/12 [==============================] - 1s 49ms/step - loss: 5.9952\n",
            "Epoch 4/100\n",
            "12/12 [==============================] - 1s 49ms/step - loss: 6.6539\n",
            "Epoch 5/100\n",
            "12/12 [==============================] - 1s 49ms/step - loss: 5.5953\n",
            "Epoch 6/100\n",
            "12/12 [==============================] - 1s 50ms/step - loss: 5.3701\n",
            "Epoch 7/100\n",
            "12/12 [==============================] - 1s 50ms/step - loss: 5.1281\n",
            "Epoch 8/100\n",
            "12/12 [==============================] - 1s 50ms/step - loss: 4.8948\n",
            "Epoch 9/100\n",
            "12/12 [==============================] - 1s 49ms/step - loss: 4.9494\n",
            "Epoch 10/100\n",
            "12/12 [==============================] - 1s 49ms/step - loss: 4.8972\n",
            "Epoch 11/100\n",
            "12/12 [==============================] - 1s 49ms/step - loss: 4.9587\n",
            "Epoch 12/100\n",
            "12/12 [==============================] - 1s 49ms/step - loss: 4.7547\n",
            "Epoch 13/100\n",
            "12/12 [==============================] - 1s 50ms/step - loss: 4.5707\n",
            "Epoch 14/100\n",
            "12/12 [==============================] - 1s 50ms/step - loss: 4.6544\n",
            "Epoch 15/100\n",
            "12/12 [==============================] - 1s 48ms/step - loss: 4.5036\n",
            "Epoch 16/100\n",
            "12/12 [==============================] - 1s 48ms/step - loss: 4.5631\n",
            "Epoch 17/100\n",
            "12/12 [==============================] - 1s 48ms/step - loss: 5.0333\n",
            "Epoch 18/100\n",
            "12/12 [==============================] - 1s 48ms/step - loss: 5.3399\n",
            "Epoch 19/100\n",
            "12/12 [==============================] - 1s 49ms/step - loss: 5.5590\n",
            "Epoch 20/100\n",
            "12/12 [==============================] - 1s 49ms/step - loss: 4.1729\n",
            "Epoch 21/100\n",
            "12/12 [==============================] - 1s 49ms/step - loss: 4.2700\n",
            "Epoch 22/100\n",
            "12/12 [==============================] - 1s 49ms/step - loss: 4.6276\n",
            "Epoch 23/100\n",
            "12/12 [==============================] - 1s 48ms/step - loss: 4.1508\n",
            "Epoch 24/100\n",
            "12/12 [==============================] - 1s 48ms/step - loss: 4.5142\n",
            "Epoch 25/100\n",
            "12/12 [==============================] - 1s 49ms/step - loss: 4.8407\n",
            "Epoch 26/100\n",
            "12/12 [==============================] - 1s 49ms/step - loss: 4.9299\n",
            "Epoch 27/100\n",
            "12/12 [==============================] - 1s 49ms/step - loss: 4.6210\n",
            "Epoch 28/100\n",
            "12/12 [==============================] - 1s 48ms/step - loss: 4.8134\n",
            "Epoch 29/100\n",
            "12/12 [==============================] - 1s 49ms/step - loss: 4.8499\n",
            "Epoch 30/100\n",
            "12/12 [==============================] - 1s 49ms/step - loss: 4.4882\n",
            "Epoch 31/100\n",
            "12/12 [==============================] - 1s 48ms/step - loss: 3.6780\n",
            "Epoch 32/100\n",
            "12/12 [==============================] - 1s 49ms/step - loss: 3.8728\n",
            "Epoch 33/100\n",
            "12/12 [==============================] - 1s 49ms/step - loss: 3.6434\n",
            "Epoch 34/100\n",
            "12/12 [==============================] - 1s 48ms/step - loss: 3.5076\n",
            "Epoch 35/100\n",
            "12/12 [==============================] - 1s 49ms/step - loss: 4.3670\n",
            "Epoch 36/100\n",
            "12/12 [==============================] - 1s 49ms/step - loss: 4.2545\n",
            "Epoch 37/100\n",
            "12/12 [==============================] - 1s 49ms/step - loss: 3.8848\n",
            "Epoch 38/100\n",
            "12/12 [==============================] - 1s 49ms/step - loss: 4.4710\n",
            "Epoch 39/100\n",
            "12/12 [==============================] - 1s 49ms/step - loss: 3.8388\n",
            "Epoch 40/100\n",
            "12/12 [==============================] - 1s 49ms/step - loss: 3.4980\n",
            "Epoch 41/100\n",
            "12/12 [==============================] - 1s 49ms/step - loss: 3.4875\n",
            "Epoch 42/100\n",
            "12/12 [==============================] - 1s 48ms/step - loss: 4.0667\n",
            "Epoch 43/100\n",
            "12/12 [==============================] - 1s 51ms/step - loss: 4.0796\n",
            "Epoch 44/100\n",
            "12/12 [==============================] - 1s 49ms/step - loss: 4.1766\n",
            "Epoch 45/100\n",
            "12/12 [==============================] - 1s 49ms/step - loss: 3.4427\n",
            "Epoch 46/100\n",
            "12/12 [==============================] - 1s 49ms/step - loss: 3.5501\n",
            "Epoch 47/100\n",
            "12/12 [==============================] - 1s 48ms/step - loss: 3.4423\n",
            "Epoch 48/100\n",
            "12/12 [==============================] - 1s 49ms/step - loss: 3.3731\n",
            "Epoch 49/100\n",
            "12/12 [==============================] - 1s 49ms/step - loss: 3.2079\n",
            "Epoch 50/100\n",
            "12/12 [==============================] - 1s 49ms/step - loss: 3.3674\n",
            "Epoch 51/100\n",
            "12/12 [==============================] - 1s 49ms/step - loss: 3.2934\n",
            "Epoch 52/100\n",
            "12/12 [==============================] - 1s 48ms/step - loss: 3.6288\n",
            "Epoch 53/100\n",
            "12/12 [==============================] - 1s 49ms/step - loss: 3.6411\n",
            "Epoch 54/100\n",
            "12/12 [==============================] - 1s 48ms/step - loss: 3.6013\n",
            "Epoch 55/100\n",
            "12/12 [==============================] - 1s 49ms/step - loss: 3.4946\n",
            "Epoch 56/100\n",
            "12/12 [==============================] - 1s 50ms/step - loss: 3.3839\n",
            "Epoch 57/100\n",
            "12/12 [==============================] - 1s 48ms/step - loss: 3.2813\n",
            "Epoch 58/100\n",
            "12/12 [==============================] - 1s 49ms/step - loss: 3.2459\n",
            "Epoch 59/100\n",
            "12/12 [==============================] - 1s 49ms/step - loss: 3.2993\n",
            "Epoch 60/100\n",
            "12/12 [==============================] - 1s 50ms/step - loss: 3.1884\n",
            "Epoch 61/100\n",
            "12/12 [==============================] - 1s 49ms/step - loss: 3.6936\n",
            "Epoch 62/100\n",
            "12/12 [==============================] - 1s 49ms/step - loss: 4.1629\n",
            "Epoch 63/100\n",
            "12/12 [==============================] - 1s 49ms/step - loss: 5.3785\n",
            "Epoch 64/100\n",
            "12/12 [==============================] - 1s 48ms/step - loss: 4.4140\n",
            "Epoch 65/100\n",
            "12/12 [==============================] - 1s 49ms/step - loss: 3.4943\n",
            "Epoch 66/100\n",
            "12/12 [==============================] - 1s 49ms/step - loss: 3.2952\n",
            "Epoch 67/100\n",
            "12/12 [==============================] - 1s 49ms/step - loss: 3.1213\n",
            "Epoch 68/100\n",
            "12/12 [==============================] - 1s 49ms/step - loss: 3.3092\n",
            "Epoch 69/100\n",
            "12/12 [==============================] - 1s 49ms/step - loss: 3.2394\n",
            "Epoch 70/100\n",
            "12/12 [==============================] - 1s 49ms/step - loss: 3.9166\n",
            "Epoch 71/100\n",
            "12/12 [==============================] - 1s 49ms/step - loss: 4.1518\n",
            "Epoch 72/100\n",
            "12/12 [==============================] - 1s 49ms/step - loss: 3.2162\n",
            "Epoch 73/100\n",
            "12/12 [==============================] - 1s 50ms/step - loss: 3.2407\n",
            "Epoch 74/100\n",
            "12/12 [==============================] - 1s 49ms/step - loss: 3.5248\n",
            "Epoch 75/100\n",
            "12/12 [==============================] - 1s 49ms/step - loss: 4.7937\n",
            "Epoch 76/100\n",
            "12/12 [==============================] - 1s 49ms/step - loss: 3.8037\n",
            "Epoch 77/100\n",
            "12/12 [==============================] - 1s 49ms/step - loss: 3.3084\n",
            "Epoch 78/100\n",
            "12/12 [==============================] - 1s 49ms/step - loss: 3.2893\n",
            "Epoch 79/100\n",
            "12/12 [==============================] - 1s 49ms/step - loss: 3.1885\n",
            "Epoch 80/100\n",
            "12/12 [==============================] - 1s 49ms/step - loss: 2.9999\n",
            "Epoch 81/100\n",
            "12/12 [==============================] - 1s 49ms/step - loss: 3.5628\n",
            "Epoch 82/100\n",
            "12/12 [==============================] - 1s 49ms/step - loss: 3.6668\n",
            "Epoch 83/100\n",
            "12/12 [==============================] - 1s 49ms/step - loss: 3.4234\n",
            "Epoch 84/100\n",
            "12/12 [==============================] - 1s 49ms/step - loss: 3.1316\n",
            "Epoch 85/100\n",
            "12/12 [==============================] - 1s 50ms/step - loss: 3.6572\n",
            "Epoch 86/100\n",
            "12/12 [==============================] - 1s 49ms/step - loss: 4.1926\n",
            "Epoch 87/100\n",
            "12/12 [==============================] - 1s 49ms/step - loss: 3.7009\n",
            "Epoch 88/100\n",
            "12/12 [==============================] - 1s 49ms/step - loss: 3.4784\n",
            "Epoch 89/100\n",
            "12/12 [==============================] - 1s 49ms/step - loss: 3.7917\n",
            "Epoch 90/100\n",
            "12/12 [==============================] - 1s 50ms/step - loss: 3.3734\n",
            "Epoch 91/100\n",
            "12/12 [==============================] - 1s 49ms/step - loss: 3.3749\n",
            "Epoch 92/100\n",
            "12/12 [==============================] - 1s 49ms/step - loss: 3.4043\n",
            "Epoch 93/100\n",
            "12/12 [==============================] - 1s 49ms/step - loss: 3.4412\n",
            "Epoch 94/100\n",
            "12/12 [==============================] - 1s 49ms/step - loss: 3.4488\n",
            "Epoch 95/100\n",
            "12/12 [==============================] - 1s 50ms/step - loss: 3.9827\n",
            "Epoch 96/100\n",
            "12/12 [==============================] - 1s 49ms/step - loss: 3.5646\n",
            "Epoch 97/100\n",
            "12/12 [==============================] - 1s 49ms/step - loss: 3.1224\n",
            "Epoch 98/100\n",
            "12/12 [==============================] - 1s 49ms/step - loss: 3.3507\n",
            "Epoch 99/100\n",
            "12/12 [==============================] - 1s 49ms/step - loss: 3.1452\n",
            "Epoch 100/100\n",
            "12/12 [==============================] - 1s 49ms/step - loss: 3.1363\n"
          ],
          "name": "stdout"
        },
        {
          "output_type": "execute_result",
          "data": {
            "text/plain": [
              "<tensorflow.python.keras.callbacks.History at 0x7f47104f6e50>"
            ]
          },
          "metadata": {
            "tags": []
          },
          "execution_count": 13
        }
      ]
    },
    {
      "cell_type": "markdown",
      "metadata": {
        "id": "DdK7RCqC5lBL"
      },
      "source": [
        "# Predicting the Model"
      ]
    },
    {
      "cell_type": "code",
      "metadata": {
        "id": "UztOZI9voxW9"
      },
      "source": [
        "y_predict=model.predict(xtest)"
      ],
      "execution_count": 14,
      "outputs": []
    },
    {
      "cell_type": "markdown",
      "metadata": {
        "id": "skvG2NYg5wZ8"
      },
      "source": [
        "# Finding the accuracy mean absolute error "
      ]
    },
    {
      "cell_type": "code",
      "metadata": {
        "id": "hW_MVAh3oxW-"
      },
      "source": [
        "from sklearn.metrics import mean_absolute_error "
      ],
      "execution_count": 15,
      "outputs": []
    },
    {
      "cell_type": "code",
      "metadata": {
        "colab": {
          "base_uri": "https://localhost:8080/"
        },
        "id": "Ha0wKJYgoxW-",
        "outputId": "44397223-378d-4385-d2db-d524cf5b83cb"
      },
      "source": [
        "error=mean_absolute_error(y_test,y_predict)\n",
        "error"
      ],
      "execution_count": 16,
      "outputs": [
        {
          "output_type": "execute_result",
          "data": {
            "text/plain": [
              "3.486613820293757"
            ]
          },
          "metadata": {
            "tags": []
          },
          "execution_count": 16
        }
      ]
    },
    {
      "cell_type": "markdown",
      "metadata": {
        "id": "rkYgV86d56Ie"
      },
      "source": [
        "# Plotting the diference between predicted output and actual output"
      ]
    },
    {
      "cell_type": "code",
      "metadata": {
        "colab": {
          "base_uri": "https://localhost:8080/",
          "height": 282
        },
        "id": "-MeUVKVHoxW-",
        "outputId": "4994f745-7b3e-45b1-ec69-d475211307ba"
      },
      "source": [
        "i=list(range(1,128))\n",
        "j=y_test.reshape(-1,1)-y_predict\n",
        "plt.scatter(i,j)"
      ],
      "execution_count": 17,
      "outputs": [
        {
          "output_type": "execute_result",
          "data": {
            "text/plain": [
              "<matplotlib.collections.PathCollection at 0x7f47102e5210>"
            ]
          },
          "metadata": {
            "tags": []
          },
          "execution_count": 17
        },
        {
          "output_type": "display_data",
          "data": {
            "image/png": "[encoded data removed]",
            "text/plain": [
              "<Figure size 432x288 with 1 Axes>"
            ]
          },
          "metadata": {
            "tags": [],
            "needs_background": "light"
          }
        }
      ]
    }
  ]
}